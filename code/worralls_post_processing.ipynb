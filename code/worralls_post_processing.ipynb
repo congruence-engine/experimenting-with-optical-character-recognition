{
 "cells": [
  {
   "cell_type": "code",
   "execution_count": null,
   "metadata": {},
   "outputs": [],
   "source": [
    "import openai\n",
    "import os\n",
    "from openai import OpenAI\n",
    "\n",
    "\n",
    "client = OpenAI(api_key=os.getenv(\"OPENAI_API_KEY\"))\n",
    "\n",
    "prompt = open(\"path_to_GPT_PROMPT.txt\", \"r\")\n",
    "prompt_text = prompt.read()\n",
    "system_text = open(\"path_to_system_text.txt\")\n",
    "\n",
    "\n",
    "def clean_text_with_gpt(text):\n",
    "    response = client.chat.completions.create(\n",
    "        model=\"gpt-4o\",\n",
    "        messages=[\n",
    "            {\n",
    "                \"role\": \"system\",\n",
    "                \"content\": prompt_text\n",
    "            },\n",
    "            {\n",
    "                \"role\": \"user\",\n",
    "                \"content\": text\n",
    "            }\n",
    "        ],\n",
    "        max_tokens=4000)  \n",
    "    cleaned_text = response.choices[0].message.content\n",
    "    return cleaned_text.strip()\n",
    "\n",
    "def process_files(input_directory, output_directory):\n",
    "    for filename in os.listdir(input_directory):\n",
    "        if filename.endswith(\".txt\"):\n",
    "            input_path = os.path.join(input_directory, filename)\n",
    "            with open(input_path, 'r') as file:\n",
    "                text = file.read()\n",
    "\n",
    "            cleaned_text = clean_text_with_gpt(text)\n",
    "\n",
    "            output_path = os.path.join(output_directory, filename)\n",
    "            with open(output_path, 'w') as file:\n",
    "                file.write(cleaned_text)\n",
    "            print(f\"Processed {filename}\")\n",
    "\n",
    "# Define input and output directories\n",
    "input_directory = 'path_to_input_directory' # A directory containing .txt files created using prior OCR process \n",
    "output_directory = 'path_to_output_directory'\n",
    "\n",
    "# Process files\n",
    "process_files(input_directory, output_directory)\n"
   ]
  }
 ],
 "metadata": {
  "language_info": {
   "name": "python"
  }
 },
 "nbformat": 4,
 "nbformat_minor": 2
}
